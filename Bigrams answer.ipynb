{
 "cells": [
  {
   "cell_type": "code",
   "execution_count": 1,
   "id": "sought-qatar",
   "metadata": {},
   "outputs": [
    {
     "name": "stdout",
     "output_type": "stream",
     "text": [
      "The original list is : ['Phone is not good']\n",
      "The formed bigrams are : [('Phone', 'is'), ('is', 'not'), ('not', 'good')]\n"
     ]
    }
   ],
   "source": [
    "test_list = [\"Phone is not good\"]\n",
    "  \n",
    "# printing the original list \n",
    "print (\"The original list is : \" + str(test_list))\n",
    "  \n",
    "# using list comprehension + enumerate() + split()\n",
    "# for Bigram formation\n",
    "res = [(x, i.split()[j + 1]) for i in test_list \n",
    "       for j, x in enumerate(i.split()) if j < len(i.split()) - 1]\n",
    "  \n",
    "# printing result\n",
    "print (\"The formed bigrams are : \" + str(res))"
   ]
  },
  {
   "cell_type": "code",
   "execution_count": 3,
   "id": "democratic-milwaukee",
   "metadata": {},
   "outputs": [
    {
     "data": {
      "text/plain": [
       "[('Phone', 'is'), ('is', 'not'), ('not', 'good')]"
      ]
     },
     "execution_count": 3,
     "metadata": {},
     "output_type": "execute_result"
    }
   ],
   "source": [
    "bigrams = [(ele, tex.split()[i+1]) for tex in test_list  for i,ele in enumerate(tex.split()) if i < len(tex.split())-1]\n",
    "bigrams"
   ]
  },
  {
   "cell_type": "code",
   "execution_count": null,
   "id": "turned-cambodia",
   "metadata": {},
   "outputs": [],
   "source": []
  }
 ],
 "metadata": {
  "kernelspec": {
   "display_name": "Python 3",
   "language": "python",
   "name": "python3"
  },
  "language_info": {
   "codemirror_mode": {
    "name": "ipython",
    "version": 3
   },
   "file_extension": ".py",
   "mimetype": "text/x-python",
   "name": "python",
   "nbconvert_exporter": "python",
   "pygments_lexer": "ipython3",
   "version": "3.8.8"
  }
 },
 "nbformat": 4,
 "nbformat_minor": 5
}
