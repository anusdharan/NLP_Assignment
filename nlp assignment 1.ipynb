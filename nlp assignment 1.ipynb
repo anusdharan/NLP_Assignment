{
 "cells": [
  {
   "cell_type": "code",
   "execution_count": 1,
   "id": "alternate-abortion",
   "metadata": {},
   "outputs": [
    {
     "name": "stdout",
     "output_type": "stream",
     "text": [
      "abc11@gmail.com\n",
      "abc12@gmail.com\n",
      "abc13@gmail.com\n",
      "abc14@gmail.com\n",
      "abc15@gmail.com\n",
      "abc16@gmail.com\n",
      "this is an assignment of nlp \n",
      "\n"
     ]
    }
   ],
   "source": [
    "with open(\"sample.txt\", 'w+') as my_file:\n",
    "    my_file.write (\"abc11@gmail.com\\n\")\n",
    "    my_file.write (\"abc12@gmail.com\\n\")\n",
    "    my_file.write (\"abc13@gmail.com\\n\")\n",
    "    my_file.write (\"abc14@gmail.com\\n\")\n",
    "    my_file.write (\"abc15@gmail.com\\n\")\n",
    "    my_file.write (\"abc16@gmail.com\\n\")\n",
    "    my_file.write (\"this is an assignment of nlp \\n\")\n",
    "    my_file.seek(0)  \n",
    "#Important: return to the top of the file before reading, \n",
    "#otherwise you'll just read an empty string\n",
    "    data = my_file.read()\n",
    "    print(data)\n"
   ]
  },
  {
   "cell_type": "code",
   "execution_count": 2,
   "id": "conservative-acting",
   "metadata": {},
   "outputs": [
    {
     "data": {
      "text/plain": [
       "['abc11@gmail.com',\n",
       " 'abc12@gmail.com',\n",
       " 'abc13@gmail.com',\n",
       " 'abc14@gmail.com',\n",
       " 'abc15@gmail.com',\n",
       " 'abc16@gmail.com']"
      ]
     },
     "execution_count": 2,
     "metadata": {},
     "output_type": "execute_result"
    }
   ],
   "source": [
    "import re\n",
    "match = re.findall(r'[\\w.+-]+@[\\w-]+\\.[\\w.-]+', data)\n",
    "match"
   ]
  },
  {
   "cell_type": "code",
   "execution_count": 3,
   "id": "technological-weight",
   "metadata": {},
   "outputs": [
    {
     "data": {
      "text/html": [
       "<div>\n",
       "<style scoped>\n",
       "    .dataframe tbody tr th:only-of-type {\n",
       "        vertical-align: middle;\n",
       "    }\n",
       "\n",
       "    .dataframe tbody tr th {\n",
       "        vertical-align: top;\n",
       "    }\n",
       "\n",
       "    .dataframe thead th {\n",
       "        text-align: right;\n",
       "    }\n",
       "</style>\n",
       "<table border=\"1\" class=\"dataframe\">\n",
       "  <thead>\n",
       "    <tr style=\"text-align: right;\">\n",
       "      <th></th>\n",
       "      <th>email-id</th>\n",
       "    </tr>\n",
       "  </thead>\n",
       "  <tbody>\n",
       "    <tr>\n",
       "      <th>0</th>\n",
       "      <td>abc11@gmail.com</td>\n",
       "    </tr>\n",
       "    <tr>\n",
       "      <th>1</th>\n",
       "      <td>abc12@gmail.com</td>\n",
       "    </tr>\n",
       "    <tr>\n",
       "      <th>2</th>\n",
       "      <td>abc13@gmail.com</td>\n",
       "    </tr>\n",
       "    <tr>\n",
       "      <th>3</th>\n",
       "      <td>abc14@gmail.com</td>\n",
       "    </tr>\n",
       "    <tr>\n",
       "      <th>4</th>\n",
       "      <td>abc15@gmail.com</td>\n",
       "    </tr>\n",
       "    <tr>\n",
       "      <th>5</th>\n",
       "      <td>abc16@gmail.com</td>\n",
       "    </tr>\n",
       "  </tbody>\n",
       "</table>\n",
       "</div>"
      ],
      "text/plain": [
       "          email-id\n",
       "0  abc11@gmail.com\n",
       "1  abc12@gmail.com\n",
       "2  abc13@gmail.com\n",
       "3  abc14@gmail.com\n",
       "4  abc15@gmail.com\n",
       "5  abc16@gmail.com"
      ]
     },
     "execution_count": 3,
     "metadata": {},
     "output_type": "execute_result"
    }
   ],
   "source": [
    "import pandas as pd\n",
    "# Calling DataFrame constructor on list\n",
    "df = pd.DataFrame(match,columns =['email-id'])\n",
    "df"
   ]
  },
  {
   "cell_type": "code",
   "execution_count": 4,
   "id": "fewer-obligation",
   "metadata": {},
   "outputs": [],
   "source": [
    "df.to_csv('email.csv',index=True)"
   ]
  },
  {
   "cell_type": "code",
   "execution_count": null,
   "id": "simplified-somewhere",
   "metadata": {},
   "outputs": [],
   "source": []
  },
  {
   "cell_type": "code",
   "execution_count": null,
   "id": "second-semiconductor",
   "metadata": {},
   "outputs": [],
   "source": []
  }
 ],
 "metadata": {
  "kernelspec": {
   "display_name": "Python 3",
   "language": "python",
   "name": "python3"
  },
  "language_info": {
   "codemirror_mode": {
    "name": "ipython",
    "version": 3
   },
   "file_extension": ".py",
   "mimetype": "text/x-python",
   "name": "python",
   "nbconvert_exporter": "python",
   "pygments_lexer": "ipython3",
   "version": "3.8.8"
  }
 },
 "nbformat": 4,
 "nbformat_minor": 5
}
