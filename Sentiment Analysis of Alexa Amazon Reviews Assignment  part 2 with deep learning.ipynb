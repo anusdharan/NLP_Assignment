{
 "cells": [
  {
   "cell_type": "markdown",
   "id": "97057ea3",
   "metadata": {},
   "source": [
    "# NLP : Sentiment Analysis of Alexa Amazon Reviews"
   ]
  },
  {
   "cell_type": "markdown",
   "id": "7aa23bb9",
   "metadata": {},
   "source": [
    "\n",
    "## About the Data\n",
    "\n",
    "This dataset consists of a nearly 3000 Amazon customer reviews (input text), star ratings, date of review, variant and feedback of various amazon Alexa products like Alexa Echo, Echo dots, Alexa Firesticks etc. for learning how to train Machine for sentiment analysis.\n",
    "\n",
    "\n",
    "You can use this data to analyze Amazon’s Alexa product ; discover insights into consumer reviews and assist with machine learning models.You can also train your machine models for sentiment analysis and analyze customer reviews how many positive reviews ? and how many negative reviews ?\n",
    "\n",
    "## Source\n",
    "Amazon's website"
   ]
  },
  {
   "cell_type": "code",
   "execution_count": 1,
   "id": "optical-taylor",
   "metadata": {},
   "outputs": [],
   "source": [
    "import numpy\n",
    "import pandas as pd\n",
    "from sklearn.model_selection import GridSearchCV \n",
    "from keras.models import Sequential\n",
    "from keras.layers import Dense\n",
    "import warnings\n",
    "warnings.filterwarnings('ignore')\n",
    "from keras.wrappers.scikit_learn import KerasClassifier"
   ]
  },
  {
   "cell_type": "code",
   "execution_count": 2,
   "id": "939c4a1f",
   "metadata": {},
   "outputs": [
    {
     "data": {
      "text/html": [
       "<div>\n",
       "<style scoped>\n",
       "    .dataframe tbody tr th:only-of-type {\n",
       "        vertical-align: middle;\n",
       "    }\n",
       "\n",
       "    .dataframe tbody tr th {\n",
       "        vertical-align: top;\n",
       "    }\n",
       "\n",
       "    .dataframe thead th {\n",
       "        text-align: right;\n",
       "    }\n",
       "</style>\n",
       "<table border=\"1\" class=\"dataframe\">\n",
       "  <thead>\n",
       "    <tr style=\"text-align: right;\">\n",
       "      <th></th>\n",
       "      <th>rating</th>\n",
       "      <th>date</th>\n",
       "      <th>variation</th>\n",
       "      <th>verified_reviews</th>\n",
       "      <th>feedback</th>\n",
       "    </tr>\n",
       "  </thead>\n",
       "  <tbody>\n",
       "    <tr>\n",
       "      <th>0</th>\n",
       "      <td>5</td>\n",
       "      <td>31-Jul-18</td>\n",
       "      <td>Charcoal Fabric</td>\n",
       "      <td>Love my Echo!</td>\n",
       "      <td>1</td>\n",
       "    </tr>\n",
       "    <tr>\n",
       "      <th>1</th>\n",
       "      <td>5</td>\n",
       "      <td>31-Jul-18</td>\n",
       "      <td>Charcoal Fabric</td>\n",
       "      <td>Loved it!</td>\n",
       "      <td>1</td>\n",
       "    </tr>\n",
       "    <tr>\n",
       "      <th>2</th>\n",
       "      <td>4</td>\n",
       "      <td>31-Jul-18</td>\n",
       "      <td>Walnut Finish</td>\n",
       "      <td>Sometimes while playing a game, you can answer...</td>\n",
       "      <td>1</td>\n",
       "    </tr>\n",
       "    <tr>\n",
       "      <th>3</th>\n",
       "      <td>5</td>\n",
       "      <td>31-Jul-18</td>\n",
       "      <td>Charcoal Fabric</td>\n",
       "      <td>I have had a lot of fun with this thing. My 4 ...</td>\n",
       "      <td>1</td>\n",
       "    </tr>\n",
       "    <tr>\n",
       "      <th>4</th>\n",
       "      <td>5</td>\n",
       "      <td>31-Jul-18</td>\n",
       "      <td>Charcoal Fabric</td>\n",
       "      <td>Music</td>\n",
       "      <td>1</td>\n",
       "    </tr>\n",
       "  </tbody>\n",
       "</table>\n",
       "</div>"
      ],
      "text/plain": [
       "   rating       date         variation  \\\n",
       "0       5  31-Jul-18  Charcoal Fabric    \n",
       "1       5  31-Jul-18  Charcoal Fabric    \n",
       "2       4  31-Jul-18    Walnut Finish    \n",
       "3       5  31-Jul-18  Charcoal Fabric    \n",
       "4       5  31-Jul-18  Charcoal Fabric    \n",
       "\n",
       "                                    verified_reviews  feedback  \n",
       "0                                      Love my Echo!         1  \n",
       "1                                          Loved it!         1  \n",
       "2  Sometimes while playing a game, you can answer...         1  \n",
       "3  I have had a lot of fun with this thing. My 4 ...         1  \n",
       "4                                              Music         1  "
      ]
     },
     "execution_count": 2,
     "metadata": {},
     "output_type": "execute_result"
    }
   ],
   "source": [
    "df1= pd.read_table(r'amazon_alexa.tsv')\n",
    "df1.head()"
   ]
  },
  {
   "cell_type": "code",
   "execution_count": 3,
   "id": "bc024026",
   "metadata": {},
   "outputs": [
    {
     "name": "stdout",
     "output_type": "stream",
     "text": [
      "Requirement already satisfied: nltk in c:\\users\\admin\\anaconda3\\envs\\tf2\\lib\\site-packages (3.6.7)\n",
      "Requirement already satisfied: click in c:\\users\\admin\\anaconda3\\envs\\tf2\\lib\\site-packages (from nltk) (8.0.4)\n",
      "Requirement already satisfied: joblib in c:\\users\\admin\\anaconda3\\envs\\tf2\\lib\\site-packages (from nltk) (1.0.1)\n",
      "Requirement already satisfied: tqdm in c:\\users\\admin\\anaconda3\\envs\\tf2\\lib\\site-packages (from nltk) (4.64.0)\n",
      "Requirement already satisfied: regex>=2021.8.3 in c:\\users\\admin\\anaconda3\\envs\\tf2\\lib\\site-packages (from nltk) (2022.6.2)\n",
      "Requirement already satisfied: colorama in c:\\users\\admin\\anaconda3\\envs\\tf2\\lib\\site-packages (from click->nltk) (0.4.4)\n",
      "Requirement already satisfied: importlib-metadata in c:\\users\\admin\\anaconda3\\envs\\tf2\\lib\\site-packages (from click->nltk) (4.6.1)\n",
      "Requirement already satisfied: typing-extensions>=3.6.4 in c:\\users\\admin\\anaconda3\\envs\\tf2\\lib\\site-packages (from importlib-metadata->click->nltk) (3.10.0.0)\n",
      "Requirement already satisfied: zipp>=0.5 in c:\\users\\admin\\anaconda3\\envs\\tf2\\lib\\site-packages (from importlib-metadata->click->nltk) (3.5.0)\n",
      "Requirement already satisfied: importlib-resources in c:\\users\\admin\\anaconda3\\envs\\tf2\\lib\\site-packages (from tqdm->nltk) (5.4.0)\n",
      "Note: you may need to restart the kernel to use updated packages.\n"
     ]
    }
   ],
   "source": [
    "pip install nltk"
   ]
  },
  {
   "cell_type": "code",
   "execution_count": 4,
   "id": "84ab39d7",
   "metadata": {},
   "outputs": [
    {
     "name": "stderr",
     "output_type": "stream",
     "text": [
      "[nltk_data] Downloading package stopwords to\n",
      "[nltk_data]     C:\\Users\\Admin\\AppData\\Roaming\\nltk_data...\n",
      "[nltk_data]   Package stopwords is already up-to-date!\n"
     ]
    },
    {
     "data": {
      "text/plain": [
       "True"
      ]
     },
     "execution_count": 4,
     "metadata": {},
     "output_type": "execute_result"
    }
   ],
   "source": [
    "import nltk\n",
    "nltk.download('stopwords')"
   ]
  },
  {
   "cell_type": "code",
   "execution_count": 5,
   "id": "dd8120ce",
   "metadata": {},
   "outputs": [],
   "source": [
    "from nltk.corpus import stopwords\n",
    "import re\n",
    "from nltk.stem.porter import PorterStemmer\n",
    "corpus=[]\n",
    "for i in range(0,3150):\n",
    "    review = re.sub('[^a-zA-Z]', ' ', df1['verified_reviews'][i] )\n",
    "    review=review.lower()\n",
    "    review=review.split()\n",
    "    ps=PorterStemmer()\n",
    "    review=[ps.stem(word) for word in review if not word in set(stopwords.words('english'))]\n",
    "    review=' '.join(review)\n",
    "    corpus.append(review)"
   ]
  },
  {
   "cell_type": "code",
   "execution_count": 6,
   "id": "8f94a2a6",
   "metadata": {},
   "outputs": [],
   "source": [
    "# creating the Bag of words Model\n",
    "from sklearn.feature_extraction.text import CountVectorizer\n",
    "cv=CountVectorizer(max_features=1500)\n",
    "X=cv.fit_transform(corpus).toarray()\n",
    "y=df1.iloc[:,4].values"
   ]
  },
  {
   "cell_type": "code",
   "execution_count": 7,
   "id": "ea1c05e1",
   "metadata": {},
   "outputs": [],
   "source": [
    "from sklearn.model_selection import train_test_split\n",
    "X_train, X_test, y_train, y_test = train_test_split(X, y, test_size = 0.20, random_state = 0)"
   ]
  },
  {
   "cell_type": "code",
   "execution_count": 8,
   "id": "afdc5c6b",
   "metadata": {},
   "outputs": [],
   "source": [
    "model = Sequential()\n",
    "model.add(Dense(12, input_dim=1500, activation='relu'))\n",
    "model.add(Dense(8, activation='relu'))\n",
    "model.add(Dense(1, activation='sigmoid'))"
   ]
  },
  {
   "cell_type": "code",
   "execution_count": 9,
   "id": "6cea0825",
   "metadata": {},
   "outputs": [],
   "source": [
    "model.compile(loss='binary_crossentropy', optimizer='adam', metrics=['accuracy'])"
   ]
  },
  {
   "cell_type": "code",
   "execution_count": 10,
   "id": "01f6f04c",
   "metadata": {},
   "outputs": [
    {
     "name": "stdout",
     "output_type": "stream",
     "text": [
      "Epoch 1/150\n",
      "252/252 [==============================] - 43s 2ms/step - loss: 0.6161 - accuracy: 0.8201\n",
      "Epoch 2/150\n",
      "252/252 [==============================] - 0s 2ms/step - loss: 0.2670 - accuracy: 0.9220\n",
      "Epoch 3/150\n",
      "252/252 [==============================] - 0s 2ms/step - loss: 0.1802 - accuracy: 0.9177\n",
      "Epoch 4/150\n",
      "252/252 [==============================] - 0s 2ms/step - loss: 0.1083 - accuracy: 0.9554\n",
      "Epoch 5/150\n",
      "252/252 [==============================] - 0s 2ms/step - loss: 0.0754 - accuracy: 0.9746\n",
      "Epoch 6/150\n",
      "252/252 [==============================] - 0s 2ms/step - loss: 0.0574 - accuracy: 0.9830\n",
      "Epoch 7/150\n",
      "252/252 [==============================] - 0s 2ms/step - loss: 0.0469 - accuracy: 0.9885\n",
      "Epoch 8/150\n",
      "252/252 [==============================] - 1s 2ms/step - loss: 0.0356 - accuracy: 0.9906\n",
      "Epoch 9/150\n",
      "252/252 [==============================] - 1s 2ms/step - loss: 0.0269 - accuracy: 0.9939\n",
      "Epoch 10/150\n",
      "252/252 [==============================] - 1s 2ms/step - loss: 0.0273 - accuracy: 0.9920\n",
      "Epoch 11/150\n",
      "252/252 [==============================] - 1s 2ms/step - loss: 0.0222 - accuracy: 0.9930: 0s - loss: 0.0\n",
      "Epoch 12/150\n",
      "252/252 [==============================] - 0s 2ms/step - loss: 0.0224 - accuracy: 0.9920\n",
      "Epoch 13/150\n",
      "252/252 [==============================] - 1s 2ms/step - loss: 0.0243 - accuracy: 0.9911\n",
      "Epoch 14/150\n",
      "252/252 [==============================] - 1s 2ms/step - loss: 0.0201 - accuracy: 0.9934\n",
      "Epoch 15/150\n",
      "252/252 [==============================] - 1s 2ms/step - loss: 0.0270 - accuracy: 0.9896\n",
      "Epoch 16/150\n",
      "252/252 [==============================] - 1s 2ms/step - loss: 0.0227 - accuracy: 0.9900\n",
      "Epoch 17/150\n",
      "252/252 [==============================] - 1s 2ms/step - loss: 0.0221 - accuracy: 0.9908\n",
      "Epoch 18/150\n",
      "252/252 [==============================] - 1s 2ms/step - loss: 0.0233 - accuracy: 0.9915\n",
      "Epoch 19/150\n",
      "252/252 [==============================] - 1s 2ms/step - loss: 0.0261 - accuracy: 0.9892\n",
      "Epoch 20/150\n",
      "252/252 [==============================] - 1s 2ms/step - loss: 0.0189 - accuracy: 0.9913\n",
      "Epoch 21/150\n",
      "252/252 [==============================] - 1s 2ms/step - loss: 0.0225 - accuracy: 0.9900\n",
      "Epoch 22/150\n",
      "252/252 [==============================] - 1s 3ms/step - loss: 0.0279 - accuracy: 0.9866\n",
      "Epoch 23/150\n",
      "252/252 [==============================] - 0s 2ms/step - loss: 0.0179 - accuracy: 0.9932\n",
      "Epoch 24/150\n",
      "252/252 [==============================] - 1s 2ms/step - loss: 0.0206 - accuracy: 0.9917\n",
      "Epoch 25/150\n",
      "252/252 [==============================] - 1s 2ms/step - loss: 0.0205 - accuracy: 0.9907\n",
      "Epoch 26/150\n",
      "252/252 [==============================] - 1s 2ms/step - loss: 0.0176 - accuracy: 0.9940\n",
      "Epoch 27/150\n",
      "252/252 [==============================] - 1s 3ms/step - loss: 0.0210 - accuracy: 0.9916: 0s - loss: 0.0215 - accu\n",
      "Epoch 28/150\n",
      "252/252 [==============================] - 1s 2ms/step - loss: 0.0219 - accuracy: 0.9903\n",
      "Epoch 29/150\n",
      "252/252 [==============================] - 1s 3ms/step - loss: 0.0158 - accuracy: 0.9938\n",
      "Epoch 30/150\n",
      "252/252 [==============================] - 1s 3ms/step - loss: 0.0222 - accuracy: 0.9904\n",
      "Epoch 31/150\n",
      "252/252 [==============================] - 1s 3ms/step - loss: 0.0229 - accuracy: 0.9889\n",
      "Epoch 32/150\n",
      "252/252 [==============================] - 1s 3ms/step - loss: 0.0220 - accuracy: 0.9895\n",
      "Epoch 33/150\n",
      "252/252 [==============================] - 1s 4ms/step - loss: 0.0176 - accuracy: 0.9919\n",
      "Epoch 34/150\n",
      "252/252 [==============================] - 1s 2ms/step - loss: 0.0207 - accuracy: 0.9906\n",
      "Epoch 35/150\n",
      "252/252 [==============================] - 1s 2ms/step - loss: 0.0238 - accuracy: 0.9881\n",
      "Epoch 36/150\n",
      "252/252 [==============================] - 0s 2ms/step - loss: 0.0149 - accuracy: 0.9938\n",
      "Epoch 37/150\n",
      "252/252 [==============================] - 1s 2ms/step - loss: 0.0223 - accuracy: 0.9898\n",
      "Epoch 38/150\n",
      "252/252 [==============================] - 1s 2ms/step - loss: 0.0224 - accuracy: 0.9903\n",
      "Epoch 39/150\n",
      "252/252 [==============================] - 1s 2ms/step - loss: 0.0230 - accuracy: 0.9887\n",
      "Epoch 40/150\n",
      "252/252 [==============================] - 1s 2ms/step - loss: 0.0200 - accuracy: 0.9917\n",
      "Epoch 41/150\n",
      "252/252 [==============================] - 1s 2ms/step - loss: 0.0243 - accuracy: 0.9884\n",
      "Epoch 42/150\n",
      "252/252 [==============================] - 1s 3ms/step - loss: 0.0237 - accuracy: 0.9886\n",
      "Epoch 43/150\n",
      "252/252 [==============================] - 0s 2ms/step - loss: 0.0280 - accuracy: 0.9870\n",
      "Epoch 44/150\n",
      "252/252 [==============================] - 0s 2ms/step - loss: 0.0188 - accuracy: 0.9919\n",
      "Epoch 45/150\n",
      "252/252 [==============================] - 1s 2ms/step - loss: 0.0222 - accuracy: 0.9900\n",
      "Epoch 46/150\n",
      "252/252 [==============================] - 0s 2ms/step - loss: 0.0186 - accuracy: 0.9912\n",
      "Epoch 47/150\n",
      "252/252 [==============================] - 1s 2ms/step - loss: 0.0209 - accuracy: 0.9916\n",
      "Epoch 48/150\n",
      "252/252 [==============================] - 0s 2ms/step - loss: 0.0232 - accuracy: 0.9899\n",
      "Epoch 49/150\n",
      "252/252 [==============================] - 0s 2ms/step - loss: 0.0189 - accuracy: 0.9921\n",
      "Epoch 50/150\n",
      "252/252 [==============================] - 1s 2ms/step - loss: 0.0159 - accuracy: 0.9934\n",
      "Epoch 51/150\n",
      "252/252 [==============================] - 1s 3ms/step - loss: 0.0206 - accuracy: 0.9896\n",
      "Epoch 52/150\n",
      "252/252 [==============================] - 0s 2ms/step - loss: 0.0216 - accuracy: 0.9912\n",
      "Epoch 53/150\n",
      "252/252 [==============================] - 0s 2ms/step - loss: 0.0182 - accuracy: 0.9923\n",
      "Epoch 54/150\n",
      "252/252 [==============================] - 1s 3ms/step - loss: 0.0184 - accuracy: 0.9919\n",
      "Epoch 55/150\n",
      "252/252 [==============================] - 1s 3ms/step - loss: 0.0204 - accuracy: 0.9910\n",
      "Epoch 56/150\n",
      "252/252 [==============================] - 1s 2ms/step - loss: 0.0164 - accuracy: 0.9925\n",
      "Epoch 57/150\n",
      "252/252 [==============================] - 1s 3ms/step - loss: 0.0232 - accuracy: 0.9893\n",
      "Epoch 58/150\n",
      "252/252 [==============================] - 1s 3ms/step - loss: 0.0223 - accuracy: 0.9890\n",
      "Epoch 59/150\n",
      "252/252 [==============================] - 1s 3ms/step - loss: 0.0225 - accuracy: 0.9892\n",
      "Epoch 60/150\n",
      "252/252 [==============================] - 1s 2ms/step - loss: 0.0185 - accuracy: 0.9928\n",
      "Epoch 61/150\n",
      "252/252 [==============================] - 1s 2ms/step - loss: 0.0216 - accuracy: 0.9898\n",
      "Epoch 62/150\n",
      "252/252 [==============================] - 0s 2ms/step - loss: 0.0176 - accuracy: 0.9923\n",
      "Epoch 63/150\n",
      "252/252 [==============================] - 1s 2ms/step - loss: 0.0224 - accuracy: 0.9896\n",
      "Epoch 64/150\n",
      "252/252 [==============================] - 0s 2ms/step - loss: 0.0183 - accuracy: 0.9928\n",
      "Epoch 65/150\n",
      "252/252 [==============================] - 0s 2ms/step - loss: 0.0174 - accuracy: 0.9941\n",
      "Epoch 66/150\n",
      "252/252 [==============================] - 0s 2ms/step - loss: 0.0219 - accuracy: 0.9895\n",
      "Epoch 67/150\n",
      "252/252 [==============================] - 0s 2ms/step - loss: 0.0232 - accuracy: 0.9891\n",
      "Epoch 68/150\n",
      "252/252 [==============================] - 0s 2ms/step - loss: 0.0217 - accuracy: 0.9887\n",
      "Epoch 69/150\n",
      "252/252 [==============================] - 0s 2ms/step - loss: 0.0219 - accuracy: 0.9882\n",
      "Epoch 70/150\n",
      "252/252 [==============================] - 0s 2ms/step - loss: 0.0231 - accuracy: 0.9890\n",
      "Epoch 71/150\n",
      "252/252 [==============================] - 0s 2ms/step - loss: 0.0204 - accuracy: 0.9896\n",
      "Epoch 72/150\n",
      "252/252 [==============================] - 1s 2ms/step - loss: 0.0264 - accuracy: 0.9851\n",
      "Epoch 73/150\n",
      "252/252 [==============================] - 0s 2ms/step - loss: 0.0177 - accuracy: 0.9919\n",
      "Epoch 74/150\n",
      "252/252 [==============================] - 0s 2ms/step - loss: 0.0256 - accuracy: 0.9880\n",
      "Epoch 75/150\n",
      "252/252 [==============================] - 0s 2ms/step - loss: 0.0192 - accuracy: 0.9911\n",
      "Epoch 76/150\n",
      "252/252 [==============================] - 0s 2ms/step - loss: 0.0138 - accuracy: 0.9953\n",
      "Epoch 77/150\n",
      "252/252 [==============================] - 0s 2ms/step - loss: 0.0197 - accuracy: 0.9918\n",
      "Epoch 78/150\n",
      "252/252 [==============================] - 0s 2ms/step - loss: 0.0172 - accuracy: 0.9932\n",
      "Epoch 79/150\n",
      "252/252 [==============================] - 0s 2ms/step - loss: 0.0179 - accuracy: 0.9903\n",
      "Epoch 80/150\n",
      "252/252 [==============================] - 1s 2ms/step - loss: 0.0223 - accuracy: 0.9895\n"
     ]
    },
    {
     "name": "stdout",
     "output_type": "stream",
     "text": [
      "Epoch 81/150\n",
      "252/252 [==============================] - 0s 2ms/step - loss: 0.0207 - accuracy: 0.9905\n",
      "Epoch 82/150\n",
      "252/252 [==============================] - 0s 2ms/step - loss: 0.0198 - accuracy: 0.9911\n",
      "Epoch 83/150\n",
      "252/252 [==============================] - 0s 2ms/step - loss: 0.0206 - accuracy: 0.9915\n",
      "Epoch 84/150\n",
      "252/252 [==============================] - 0s 2ms/step - loss: 0.0166 - accuracy: 0.9930\n",
      "Epoch 85/150\n",
      "252/252 [==============================] - 0s 2ms/step - loss: 0.0207 - accuracy: 0.9911\n",
      "Epoch 86/150\n",
      "252/252 [==============================] - 0s 2ms/step - loss: 0.0228 - accuracy: 0.9886\n",
      "Epoch 87/150\n",
      "252/252 [==============================] - 1s 2ms/step - loss: 0.0131 - accuracy: 0.9954\n",
      "Epoch 88/150\n",
      "252/252 [==============================] - 1s 2ms/step - loss: 0.0248 - accuracy: 0.9871\n",
      "Epoch 89/150\n",
      "252/252 [==============================] - 1s 2ms/step - loss: 0.0236 - accuracy: 0.9886\n",
      "Epoch 90/150\n",
      "252/252 [==============================] - 1s 2ms/step - loss: 0.0172 - accuracy: 0.9927\n",
      "Epoch 91/150\n",
      "252/252 [==============================] - 0s 2ms/step - loss: 0.0193 - accuracy: 0.9915\n",
      "Epoch 92/150\n",
      "252/252 [==============================] - 0s 2ms/step - loss: 0.0192 - accuracy: 0.9921\n",
      "Epoch 93/150\n",
      "252/252 [==============================] - 0s 2ms/step - loss: 0.0217 - accuracy: 0.9906\n",
      "Epoch 94/150\n",
      "252/252 [==============================] - 0s 2ms/step - loss: 0.0183 - accuracy: 0.9929\n",
      "Epoch 95/150\n",
      "252/252 [==============================] - 0s 2ms/step - loss: 0.0219 - accuracy: 0.9903\n",
      "Epoch 96/150\n",
      "252/252 [==============================] - 0s 2ms/step - loss: 0.0216 - accuracy: 0.9905\n",
      "Epoch 97/150\n",
      "252/252 [==============================] - 0s 2ms/step - loss: 0.0211 - accuracy: 0.9917\n",
      "Epoch 98/150\n",
      "252/252 [==============================] - 0s 2ms/step - loss: 0.0171 - accuracy: 0.9926\n",
      "Epoch 99/150\n",
      "252/252 [==============================] - 0s 2ms/step - loss: 0.0164 - accuracy: 0.9935\n",
      "Epoch 100/150\n",
      "252/252 [==============================] - 0s 2ms/step - loss: 0.0190 - accuracy: 0.9920\n",
      "Epoch 101/150\n",
      "252/252 [==============================] - 0s 2ms/step - loss: 0.0203 - accuracy: 0.9912\n",
      "Epoch 102/150\n",
      "252/252 [==============================] - 0s 2ms/step - loss: 0.0180 - accuracy: 0.9908\n",
      "Epoch 103/150\n",
      "252/252 [==============================] - 0s 2ms/step - loss: 0.0240 - accuracy: 0.9893\n",
      "Epoch 104/150\n",
      "252/252 [==============================] - 0s 2ms/step - loss: 0.0184 - accuracy: 0.9928\n",
      "Epoch 105/150\n",
      "252/252 [==============================] - 0s 2ms/step - loss: 0.0135 - accuracy: 0.9950\n",
      "Epoch 106/150\n",
      "252/252 [==============================] - 0s 2ms/step - loss: 0.0180 - accuracy: 0.9924\n",
      "Epoch 107/150\n",
      "252/252 [==============================] - 0s 2ms/step - loss: 0.0217 - accuracy: 0.9897\n",
      "Epoch 108/150\n",
      "252/252 [==============================] - 0s 2ms/step - loss: 0.0162 - accuracy: 0.9937\n",
      "Epoch 109/150\n",
      "252/252 [==============================] - 0s 2ms/step - loss: 0.0180 - accuracy: 0.9926\n",
      "Epoch 110/150\n",
      "252/252 [==============================] - 0s 2ms/step - loss: 0.0244 - accuracy: 0.9883\n",
      "Epoch 111/150\n",
      "252/252 [==============================] - 0s 2ms/step - loss: 0.0178 - accuracy: 0.9924\n",
      "Epoch 112/150\n",
      "252/252 [==============================] - 0s 2ms/step - loss: 0.0194 - accuracy: 0.9906\n",
      "Epoch 113/150\n",
      "252/252 [==============================] - 0s 2ms/step - loss: 0.0191 - accuracy: 0.9914\n",
      "Epoch 114/150\n",
      "252/252 [==============================] - 0s 2ms/step - loss: 0.0188 - accuracy: 0.9926\n",
      "Epoch 115/150\n",
      "252/252 [==============================] - 0s 2ms/step - loss: 0.0171 - accuracy: 0.9928\n",
      "Epoch 116/150\n",
      "252/252 [==============================] - 0s 2ms/step - loss: 0.0198 - accuracy: 0.9918\n",
      "Epoch 117/150\n",
      "252/252 [==============================] - 0s 2ms/step - loss: 0.0188 - accuracy: 0.9917\n",
      "Epoch 118/150\n",
      "252/252 [==============================] - 0s 2ms/step - loss: 0.0175 - accuracy: 0.9920\n",
      "Epoch 119/150\n",
      "252/252 [==============================] - 0s 2ms/step - loss: 0.0198 - accuracy: 0.9919\n",
      "Epoch 120/150\n",
      "252/252 [==============================] - 0s 2ms/step - loss: 0.0146 - accuracy: 0.9945\n",
      "Epoch 121/150\n",
      "252/252 [==============================] - 0s 2ms/step - loss: 0.0239 - accuracy: 0.9889\n",
      "Epoch 122/150\n",
      "252/252 [==============================] - 0s 2ms/step - loss: 0.0209 - accuracy: 0.9886\n",
      "Epoch 123/150\n",
      "252/252 [==============================] - 1s 2ms/step - loss: 0.0208 - accuracy: 0.9916\n",
      "Epoch 124/150\n",
      "252/252 [==============================] - 1s 2ms/step - loss: 0.0176 - accuracy: 0.9919\n",
      "Epoch 125/150\n",
      "252/252 [==============================] - 1s 2ms/step - loss: 0.0252 - accuracy: 0.9880\n",
      "Epoch 126/150\n",
      "252/252 [==============================] - 1s 2ms/step - loss: 0.0171 - accuracy: 0.9923\n",
      "Epoch 127/150\n",
      "252/252 [==============================] - 0s 2ms/step - loss: 0.0197 - accuracy: 0.9918\n",
      "Epoch 128/150\n",
      "252/252 [==============================] - 0s 2ms/step - loss: 0.0188 - accuracy: 0.9926\n",
      "Epoch 129/150\n",
      "252/252 [==============================] - 0s 2ms/step - loss: 0.0157 - accuracy: 0.9942\n",
      "Epoch 130/150\n",
      "252/252 [==============================] - 0s 2ms/step - loss: 0.0218 - accuracy: 0.9905\n",
      "Epoch 131/150\n",
      "252/252 [==============================] - 0s 2ms/step - loss: 0.0235 - accuracy: 0.9893\n",
      "Epoch 132/150\n",
      "252/252 [==============================] - 0s 2ms/step - loss: 0.0183 - accuracy: 0.9920\n",
      "Epoch 133/150\n",
      "252/252 [==============================] - 0s 2ms/step - loss: 0.0205 - accuracy: 0.9922\n",
      "Epoch 134/150\n",
      "252/252 [==============================] - 0s 2ms/step - loss: 0.0185 - accuracy: 0.9914\n",
      "Epoch 135/150\n",
      "252/252 [==============================] - 0s 2ms/step - loss: 0.0190 - accuracy: 0.9921\n",
      "Epoch 136/150\n",
      "252/252 [==============================] - 0s 2ms/step - loss: 0.0161 - accuracy: 0.9927\n",
      "Epoch 137/150\n",
      "252/252 [==============================] - 0s 2ms/step - loss: 0.0182 - accuracy: 0.9928\n",
      "Epoch 138/150\n",
      "252/252 [==============================] - 0s 2ms/step - loss: 0.0216 - accuracy: 0.9891\n",
      "Epoch 139/150\n",
      "252/252 [==============================] - 0s 2ms/step - loss: 0.0143 - accuracy: 0.9946\n",
      "Epoch 140/150\n",
      "252/252 [==============================] - 0s 2ms/step - loss: 0.0200 - accuracy: 0.9901\n",
      "Epoch 141/150\n",
      "252/252 [==============================] - 0s 2ms/step - loss: 0.0207 - accuracy: 0.9909\n",
      "Epoch 142/150\n",
      "252/252 [==============================] - 0s 2ms/step - loss: 0.0160 - accuracy: 0.9928\n",
      "Epoch 143/150\n",
      "252/252 [==============================] - 0s 2ms/step - loss: 0.0234 - accuracy: 0.9875\n",
      "Epoch 144/150\n",
      "252/252 [==============================] - 1s 2ms/step - loss: 0.0220 - accuracy: 0.9897\n",
      "Epoch 145/150\n",
      "252/252 [==============================] - 0s 2ms/step - loss: 0.0240 - accuracy: 0.9883\n",
      "Epoch 146/150\n",
      "252/252 [==============================] - 0s 2ms/step - loss: 0.0171 - accuracy: 0.9933\n",
      "Epoch 147/150\n",
      "252/252 [==============================] - 0s 2ms/step - loss: 0.0204 - accuracy: 0.9904\n",
      "Epoch 148/150\n",
      "252/252 [==============================] - 0s 2ms/step - loss: 0.0189 - accuracy: 0.9917\n",
      "Epoch 149/150\n",
      "252/252 [==============================] - 0s 2ms/step - loss: 0.0212 - accuracy: 0.9893\n",
      "Epoch 150/150\n",
      "252/252 [==============================] - 0s 2ms/step - loss: 0.0154 - accuracy: 0.9935\n"
     ]
    },
    {
     "data": {
      "text/plain": [
       "<keras.callbacks.History at 0x2168aeeac18>"
      ]
     },
     "execution_count": 10,
     "metadata": {},
     "output_type": "execute_result"
    }
   ],
   "source": [
    "model.fit(X_train, y_train, epochs=150, batch_size=10)"
   ]
  },
  {
   "cell_type": "code",
   "execution_count": 11,
   "id": "764c8848",
   "metadata": {},
   "outputs": [
    {
     "name": "stdout",
     "output_type": "stream",
     "text": [
      "79/79 [==============================] - 1s 6ms/step - loss: 0.0195 - accuracy: 0.9913\n"
     ]
    }
   ],
   "source": [
    "accuracy = model.evaluate(X_train, y_train)"
   ]
  },
  {
   "cell_type": "code",
   "execution_count": 12,
   "id": "05069866",
   "metadata": {},
   "outputs": [
    {
     "data": {
      "text/plain": [
       "[0.01946256309747696, 0.9912698268890381]"
      ]
     },
     "execution_count": 12,
     "metadata": {},
     "output_type": "execute_result"
    }
   ],
   "source": [
    "accuracy"
   ]
  },
  {
   "cell_type": "code",
   "execution_count": 13,
   "id": "7b804f72",
   "metadata": {},
   "outputs": [],
   "source": [
    "from sklearn.metrics import accuracy_score, confusion_matrix"
   ]
  },
  {
   "cell_type": "code",
   "execution_count": 14,
   "id": "4fa595a1",
   "metadata": {},
   "outputs": [],
   "source": [
    "y_pred = model.predict(X_test)"
   ]
  },
  {
   "cell_type": "code",
   "execution_count": 15,
   "id": "ad8d126c",
   "metadata": {},
   "outputs": [],
   "source": [
    "y_pred = (y_pred > 0.5)"
   ]
  },
  {
   "cell_type": "code",
   "execution_count": 16,
   "id": "8c72bbdd",
   "metadata": {},
   "outputs": [
    {
     "data": {
      "text/plain": [
       "array([[ 27,  27],\n",
       "       [ 18, 558]], dtype=int64)"
      ]
     },
     "execution_count": 16,
     "metadata": {},
     "output_type": "execute_result"
    }
   ],
   "source": [
    "cm = confusion_matrix(y_test, y_pred)\n",
    "cm"
   ]
  },
  {
   "cell_type": "code",
   "execution_count": 17,
   "id": "d5fe5761",
   "metadata": {},
   "outputs": [],
   "source": [
    "from sklearn.metrics import precision_score, recall_score, f1_score, accuracy_score"
   ]
  },
  {
   "cell_type": "code",
   "execution_count": 18,
   "id": "ff41e432",
   "metadata": {},
   "outputs": [
    {
     "name": "stdout",
     "output_type": "stream",
     "text": [
      "Accuracy: 0.929\n"
     ]
    }
   ],
   "source": [
    "print('Accuracy: %.3f' % accuracy_score(y_test, y_pred))"
   ]
  },
  {
   "cell_type": "code",
   "execution_count": 19,
   "id": "76b71364",
   "metadata": {},
   "outputs": [
    {
     "name": "stdout",
     "output_type": "stream",
     "text": [
      "Precision: 0.954\n"
     ]
    }
   ],
   "source": [
    "print('Precision: %.3f' % precision_score(y_test, y_pred))"
   ]
  },
  {
   "cell_type": "code",
   "execution_count": 20,
   "id": "be6044e7",
   "metadata": {},
   "outputs": [
    {
     "name": "stdout",
     "output_type": "stream",
     "text": [
      "Recall: 0.969\n"
     ]
    }
   ],
   "source": [
    "print('Recall: %.3f' % recall_score(y_test,y_pred))"
   ]
  },
  {
   "cell_type": "code",
   "execution_count": 21,
   "id": "cdc2e323",
   "metadata": {},
   "outputs": [
    {
     "name": "stdout",
     "output_type": "stream",
     "text": [
      "F1 Score: 0.961\n"
     ]
    }
   ],
   "source": [
    "print('F1 Score: %.3f' % f1_score(y_test, y_pred))"
   ]
  },
  {
   "cell_type": "code",
   "execution_count": null,
   "id": "61eec434",
   "metadata": {},
   "outputs": [],
   "source": []
  }
 ],
 "metadata": {
  "kernelspec": {
   "display_name": "Python 3",
   "language": "python",
   "name": "python3"
  },
  "language_info": {
   "codemirror_mode": {
    "name": "ipython",
    "version": 3
   },
   "file_extension": ".py",
   "mimetype": "text/x-python",
   "name": "python",
   "nbconvert_exporter": "python",
   "pygments_lexer": "ipython3",
   "version": "3.8.8"
  }
 },
 "nbformat": 4,
 "nbformat_minor": 5
}
